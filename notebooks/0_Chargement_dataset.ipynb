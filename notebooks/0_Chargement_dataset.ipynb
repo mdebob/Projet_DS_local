{
 "cells": [
  {
   "cell_type": "code",
   "execution_count": 15,
   "metadata": {},
   "outputs": [],
   "source": [
    "# Import des librairies\n",
    "import pandas as pd\n",
    "import numpy as np"
   ]
  },
  {
   "cell_type": "code",
   "execution_count": 16,
   "metadata": {},
   "outputs": [],
   "source": [
    "# Chargement du dataset\n",
    "df = pd.read_csv(\"/home/ubuntu/JUIL24-CDS-SUPPLYCHAIN/mon_env/Donnees/dataset.csv\", sep=\"\\t\")\n",
    "# df.head()"
   ]
  },
  {
   "cell_type": "code",
   "execution_count": 17,
   "metadata": {},
   "outputs": [
    {
     "name": "stdout",
     "output_type": "stream",
     "text": [
      "Les dimensions du dataset sont: (19863, 11)\n"
     ]
    }
   ],
   "source": [
    "# Dimension du dataset\n",
    "print('Les dimensions du dataset sont:',df.shape)"
   ]
  },
  {
   "cell_type": "code",
   "execution_count": 18,
   "metadata": {},
   "outputs": [
    {
     "name": "stdout",
     "output_type": "stream",
     "text": [
      "Tableau des infos du dataset: \n",
      "\n",
      "<class 'pandas.core.frame.DataFrame'>\n",
      "RangeIndex: 19863 entries, 0 to 19862\n",
      "Data columns (total 11 columns):\n",
      " #   Column         Non-Null Count  Dtype  \n",
      "---  ------         --------------  -----  \n",
      " 0   Commentaire    19834 non-null  object \n",
      " 1   star           19863 non-null  int64  \n",
      " 2   date           19488 non-null  object \n",
      " 3   client         10215 non-null  object \n",
      " 4   reponse        8477 non-null   object \n",
      " 5   source         19863 non-null  object \n",
      " 6   company        19863 non-null  object \n",
      " 7   ville          4860 non-null   object \n",
      " 8   maj            5 non-null      object \n",
      " 9   date_commande  6686 non-null   object \n",
      " 10  ecart          6686 non-null   float64\n",
      "dtypes: float64(1), int64(1), object(9)\n",
      "memory usage: 1.7+ MB\n",
      "None\n"
     ]
    }
   ],
   "source": [
    "# Infos du dataset\n",
    "print('Tableau des infos du dataset:','\\n')\n",
    "print(df.info())"
   ]
  },
  {
   "cell_type": "code",
   "execution_count": 19,
   "metadata": {},
   "outputs": [
    {
     "name": "stdout",
     "output_type": "stream",
     "text": [
      "Statistiques descriptives des variables du dataset:\n",
      "\n"
     ]
    },
    {
     "data": {
      "text/html": [
       "<div>\n",
       "<style scoped>\n",
       "    .dataframe tbody tr th:only-of-type {\n",
       "        vertical-align: middle;\n",
       "    }\n",
       "\n",
       "    .dataframe tbody tr th {\n",
       "        vertical-align: top;\n",
       "    }\n",
       "\n",
       "    .dataframe thead th {\n",
       "        text-align: right;\n",
       "    }\n",
       "</style>\n",
       "<table border=\"1\" class=\"dataframe\">\n",
       "  <thead>\n",
       "    <tr style=\"text-align: right;\">\n",
       "      <th></th>\n",
       "      <th>Commentaire</th>\n",
       "      <th>star</th>\n",
       "      <th>date</th>\n",
       "      <th>client</th>\n",
       "      <th>reponse</th>\n",
       "      <th>source</th>\n",
       "      <th>company</th>\n",
       "      <th>ville</th>\n",
       "      <th>maj</th>\n",
       "      <th>date_commande</th>\n",
       "      <th>ecart</th>\n",
       "    </tr>\n",
       "  </thead>\n",
       "  <tbody>\n",
       "    <tr>\n",
       "      <th>count</th>\n",
       "      <td>19834</td>\n",
       "      <td>19863.000000</td>\n",
       "      <td>19488</td>\n",
       "      <td>10215</td>\n",
       "      <td>8477</td>\n",
       "      <td>19863</td>\n",
       "      <td>19863</td>\n",
       "      <td>4860</td>\n",
       "      <td>5</td>\n",
       "      <td>6686</td>\n",
       "      <td>6686.000000</td>\n",
       "    </tr>\n",
       "    <tr>\n",
       "      <th>unique</th>\n",
       "      <td>17174</td>\n",
       "      <td>NaN</td>\n",
       "      <td>1880</td>\n",
       "      <td>7569</td>\n",
       "      <td>2033</td>\n",
       "      <td>2</td>\n",
       "      <td>2</td>\n",
       "      <td>2457</td>\n",
       "      <td>5</td>\n",
       "      <td>385</td>\n",
       "      <td>NaN</td>\n",
       "    </tr>\n",
       "    <tr>\n",
       "      <th>top</th>\n",
       "      <td>Parfait</td>\n",
       "      <td>NaN</td>\n",
       "      <td>2020-06-12</td>\n",
       "      <td>Client</td>\n",
       "      <td>Bonjour , Merci d'avoir partagé votre expérien...</td>\n",
       "      <td>TrustedShop</td>\n",
       "      <td>ShowRoom</td>\n",
       "      <td>Paris</td>\n",
       "      <td>2021-04-30</td>\n",
       "      <td>2020-08-19</td>\n",
       "      <td>NaN</td>\n",
       "    </tr>\n",
       "    <tr>\n",
       "      <th>freq</th>\n",
       "      <td>284</td>\n",
       "      <td>NaN</td>\n",
       "      <td>257</td>\n",
       "      <td>31</td>\n",
       "      <td>1162</td>\n",
       "      <td>14503</td>\n",
       "      <td>16823</td>\n",
       "      <td>110</td>\n",
       "      <td>1</td>\n",
       "      <td>73</td>\n",
       "      <td>NaN</td>\n",
       "    </tr>\n",
       "    <tr>\n",
       "      <th>mean</th>\n",
       "      <td>NaN</td>\n",
       "      <td>3.408398</td>\n",
       "      <td>NaN</td>\n",
       "      <td>NaN</td>\n",
       "      <td>NaN</td>\n",
       "      <td>NaN</td>\n",
       "      <td>NaN</td>\n",
       "      <td>NaN</td>\n",
       "      <td>NaN</td>\n",
       "      <td>NaN</td>\n",
       "      <td>14.286419</td>\n",
       "    </tr>\n",
       "    <tr>\n",
       "      <th>std</th>\n",
       "      <td>NaN</td>\n",
       "      <td>1.650531</td>\n",
       "      <td>NaN</td>\n",
       "      <td>NaN</td>\n",
       "      <td>NaN</td>\n",
       "      <td>NaN</td>\n",
       "      <td>NaN</td>\n",
       "      <td>NaN</td>\n",
       "      <td>NaN</td>\n",
       "      <td>NaN</td>\n",
       "      <td>10.373320</td>\n",
       "    </tr>\n",
       "    <tr>\n",
       "      <th>min</th>\n",
       "      <td>NaN</td>\n",
       "      <td>1.000000</td>\n",
       "      <td>NaN</td>\n",
       "      <td>NaN</td>\n",
       "      <td>NaN</td>\n",
       "      <td>NaN</td>\n",
       "      <td>NaN</td>\n",
       "      <td>NaN</td>\n",
       "      <td>NaN</td>\n",
       "      <td>NaN</td>\n",
       "      <td>1.000000</td>\n",
       "    </tr>\n",
       "    <tr>\n",
       "      <th>25%</th>\n",
       "      <td>NaN</td>\n",
       "      <td>1.000000</td>\n",
       "      <td>NaN</td>\n",
       "      <td>NaN</td>\n",
       "      <td>NaN</td>\n",
       "      <td>NaN</td>\n",
       "      <td>NaN</td>\n",
       "      <td>NaN</td>\n",
       "      <td>NaN</td>\n",
       "      <td>NaN</td>\n",
       "      <td>9.000000</td>\n",
       "    </tr>\n",
       "    <tr>\n",
       "      <th>50%</th>\n",
       "      <td>NaN</td>\n",
       "      <td>4.000000</td>\n",
       "      <td>NaN</td>\n",
       "      <td>NaN</td>\n",
       "      <td>NaN</td>\n",
       "      <td>NaN</td>\n",
       "      <td>NaN</td>\n",
       "      <td>NaN</td>\n",
       "      <td>NaN</td>\n",
       "      <td>NaN</td>\n",
       "      <td>12.000000</td>\n",
       "    </tr>\n",
       "    <tr>\n",
       "      <th>75%</th>\n",
       "      <td>NaN</td>\n",
       "      <td>5.000000</td>\n",
       "      <td>NaN</td>\n",
       "      <td>NaN</td>\n",
       "      <td>NaN</td>\n",
       "      <td>NaN</td>\n",
       "      <td>NaN</td>\n",
       "      <td>NaN</td>\n",
       "      <td>NaN</td>\n",
       "      <td>NaN</td>\n",
       "      <td>17.000000</td>\n",
       "    </tr>\n",
       "    <tr>\n",
       "      <th>max</th>\n",
       "      <td>NaN</td>\n",
       "      <td>5.000000</td>\n",
       "      <td>NaN</td>\n",
       "      <td>NaN</td>\n",
       "      <td>NaN</td>\n",
       "      <td>NaN</td>\n",
       "      <td>NaN</td>\n",
       "      <td>NaN</td>\n",
       "      <td>NaN</td>\n",
       "      <td>NaN</td>\n",
       "      <td>304.000000</td>\n",
       "    </tr>\n",
       "  </tbody>\n",
       "</table>\n",
       "</div>"
      ],
      "text/plain": [
       "       Commentaire          star        date  client  \\\n",
       "count        19834  19863.000000       19488   10215   \n",
       "unique       17174           NaN        1880    7569   \n",
       "top        Parfait           NaN  2020-06-12  Client   \n",
       "freq           284           NaN         257      31   \n",
       "mean           NaN      3.408398         NaN     NaN   \n",
       "std            NaN      1.650531         NaN     NaN   \n",
       "min            NaN      1.000000         NaN     NaN   \n",
       "25%            NaN      1.000000         NaN     NaN   \n",
       "50%            NaN      4.000000         NaN     NaN   \n",
       "75%            NaN      5.000000         NaN     NaN   \n",
       "max            NaN      5.000000         NaN     NaN   \n",
       "\n",
       "                                                  reponse       source  \\\n",
       "count                                                8477        19863   \n",
       "unique                                               2033            2   \n",
       "top     Bonjour , Merci d'avoir partagé votre expérien...  TrustedShop   \n",
       "freq                                                 1162        14503   \n",
       "mean                                                  NaN          NaN   \n",
       "std                                                   NaN          NaN   \n",
       "min                                                   NaN          NaN   \n",
       "25%                                                   NaN          NaN   \n",
       "50%                                                   NaN          NaN   \n",
       "75%                                                   NaN          NaN   \n",
       "max                                                   NaN          NaN   \n",
       "\n",
       "         company  ville         maj date_commande        ecart  \n",
       "count      19863   4860           5          6686  6686.000000  \n",
       "unique         2   2457           5           385          NaN  \n",
       "top     ShowRoom  Paris  2021-04-30    2020-08-19          NaN  \n",
       "freq       16823    110           1            73          NaN  \n",
       "mean         NaN    NaN         NaN           NaN    14.286419  \n",
       "std          NaN    NaN         NaN           NaN    10.373320  \n",
       "min          NaN    NaN         NaN           NaN     1.000000  \n",
       "25%          NaN    NaN         NaN           NaN     9.000000  \n",
       "50%          NaN    NaN         NaN           NaN    12.000000  \n",
       "75%          NaN    NaN         NaN           NaN    17.000000  \n",
       "max          NaN    NaN         NaN           NaN   304.000000  "
      ]
     },
     "metadata": {},
     "output_type": "display_data"
    }
   ],
   "source": [
    "# Statistiques descriptives des variables du dataset\n",
    "print('Statistiques descriptives des variables du dataset:\\n')\n",
    "display(df.describe(include='all'))"
   ]
  },
  {
   "cell_type": "code",
   "execution_count": 20,
   "metadata": {},
   "outputs": [
    {
     "name": "stdout",
     "output_type": "stream",
     "text": [
      "star\n",
      "[1 2 5 3 4] \n",
      "\n",
      "source\n",
      "['TrustPilot' 'TrustedShop'] \n",
      "\n",
      "company\n",
      "['ShowRoom' 'VeePee'] \n",
      "\n"
     ]
    }
   ],
   "source": [
    "# Affichage des modalités de star, source et company\n",
    "for col in ['star', 'source','company']:\n",
    "    print(col)\n",
    "    print(df[col].unique(),'\\n')"
   ]
  },
  {
   "cell_type": "code",
   "execution_count": 21,
   "metadata": {},
   "outputs": [
    {
     "name": "stdout",
     "output_type": "stream",
     "text": [
      "Pourcentage de valeurs manquante par variable: \n",
      "\n",
      "Commentaire        0.1%\n",
      "star               0.0%\n",
      "date               1.9%\n",
      "client            48.6%\n",
      "reponse           57.3%\n",
      "source             0.0%\n",
      "company            0.0%\n",
      "ville             75.5%\n",
      "maj              100.0%\n",
      "date_commande     66.3%\n",
      "ecart             66.3%\n",
      "dtype: object\n"
     ]
    }
   ],
   "source": [
    "# Valeurs manquantes\n",
    "print('Pourcentage de valeurs manquante par variable: \\n')\n",
    "print((round(100*df.isna().sum()/df.shape[0],1)).astype(str)+'%')\n"
   ]
  },
  {
   "cell_type": "code",
   "execution_count": 22,
   "metadata": {},
   "outputs": [],
   "source": [
    "# Suppression des valeurs manquantes\n",
    "df = df.dropna(subset = ['Commentaire', 'star','date','source','company'])"
   ]
  },
  {
   "cell_type": "code",
   "execution_count": 23,
   "metadata": {},
   "outputs": [
    {
     "name": "stdout",
     "output_type": "stream",
     "text": [
      "Nombre de doublons: 420\n"
     ]
    }
   ],
   "source": [
    "# Affichage du nombre de doublons\n",
    "print(\"Nombre de doublons:\",df.duplicated().sum())\n",
    "\n",
    "# Supression des doublons\n",
    "df = df.drop_duplicates()"
   ]
  },
  {
   "cell_type": "code",
   "execution_count": 24,
   "metadata": {},
   "outputs": [
    {
     "name": "stdout",
     "output_type": "stream",
     "text": [
      "[25 10]\n"
     ]
    },
    {
     "name": "stderr",
     "output_type": "stream",
     "text": [
      "/tmp/ipykernel_3531/2348051489.py:11: SettingWithCopyWarning: \n",
      "A value is trying to be set on a copy of a slice from a DataFrame.\n",
      "Try using .loc[row_indexer,col_indexer] = value instead\n",
      "\n",
      "See the caveats in the documentation: https://pandas.pydata.org/pandas-docs/stable/user_guide/indexing.html#returning-a-view-versus-a-copy\n",
      "  df_tmp1['date'] = pd.to_datetime(df_tmp1['date'], format='%Y-%m-%d %H:%M:%S%z')\n",
      "/tmp/ipykernel_3531/2348051489.py:12: SettingWithCopyWarning: \n",
      "A value is trying to be set on a copy of a slice from a DataFrame.\n",
      "Try using .loc[row_indexer,col_indexer] = value instead\n",
      "\n",
      "See the caveats in the documentation: https://pandas.pydata.org/pandas-docs/stable/user_guide/indexing.html#returning-a-view-versus-a-copy\n",
      "  df_tmp1['date'] = df_tmp1['date'].dt.strftime('%Y-%m-%d')\n",
      "/tmp/ipykernel_3531/2348051489.py:14: SettingWithCopyWarning: \n",
      "A value is trying to be set on a copy of a slice from a DataFrame.\n",
      "Try using .loc[row_indexer,col_indexer] = value instead\n",
      "\n",
      "See the caveats in the documentation: https://pandas.pydata.org/pandas-docs/stable/user_guide/indexing.html#returning-a-view-versus-a-copy\n",
      "  df_tmp2['date'] = pd.to_datetime(df_tmp2['date'], format='%Y-%m-%d')\n",
      "/tmp/ipykernel_3531/2348051489.py:15: SettingWithCopyWarning: \n",
      "A value is trying to be set on a copy of a slice from a DataFrame.\n",
      "Try using .loc[row_indexer,col_indexer] = value instead\n",
      "\n",
      "See the caveats in the documentation: https://pandas.pydata.org/pandas-docs/stable/user_guide/indexing.html#returning-a-view-versus-a-copy\n",
      "  df_tmp2['date'] = df_tmp2['date'].dt.strftime('%Y-%m-%d')\n"
     ]
    }
   ],
   "source": [
    "# Formatage de la variable date\n",
    "\n",
    "# Detection des differents formats de date\n",
    "print(df['date'].str.len().unique())\n",
    "\n",
    "# Creation d'une table par format\n",
    "df_tmp1 = df[df['date'].str.len() == 25]\n",
    "df_tmp2 = df[df['date'].str.len() == 10]\n",
    "\n",
    "# Conversion au format date\n",
    "df_tmp1['date'] = pd.to_datetime(df_tmp1['date'], format='%Y-%m-%d %H:%M:%S%z')\n",
    "df_tmp1['date'] = df_tmp1['date'].dt.strftime('%Y-%m-%d')\n",
    "\n",
    "df_tmp2['date'] = pd.to_datetime(df_tmp2['date'], format='%Y-%m-%d')\n",
    "df_tmp2['date'] = df_tmp2['date'].dt.strftime('%Y-%m-%d')\n",
    "\n",
    "# Reconstitution de df\n",
    "df = pd.concat([df_tmp1,df_tmp2])\n",
    "df['date'] = pd.to_datetime(df['date'])\n",
    "\n",
    "# Creation des variables mois, année\n",
    "df[\"month\"] = df[\"date\"].dt.month\n",
    "df[\"year\"] = df[\"date\"].dt.year"
   ]
  },
  {
   "cell_type": "code",
   "execution_count": 25,
   "metadata": {},
   "outputs": [],
   "source": [
    "# Creation d'une variable nombre d'avis par utilisateur\n",
    "df['nb_avis'] = df.groupby('client')['client'].transform('size')\n"
   ]
  },
  {
   "cell_type": "code",
   "execution_count": 26,
   "metadata": {},
   "outputs": [],
   "source": [
    "# Creation d'une variable longueur du commentaire\n",
    "df['length_of_text'] = [len(i.split(' ')) for i in df['Commentaire']]"
   ]
  },
  {
   "cell_type": "code",
   "execution_count": 27,
   "metadata": {},
   "outputs": [],
   "source": [
    "# Sauvegarde du dataset\n",
    "df.to_pickle('~/JUIL24-CDS-SUPPLYCHAIN/mon_env/Donnees/df_1.pkl')"
   ]
  }
 ],
 "metadata": {
  "kernelspec": {
   "display_name": "mon_env",
   "language": "python",
   "name": "python3"
  },
  "language_info": {
   "codemirror_mode": {
    "name": "ipython",
    "version": 3
   },
   "file_extension": ".py",
   "mimetype": "text/x-python",
   "name": "python",
   "nbconvert_exporter": "python",
   "pygments_lexer": "ipython3",
   "version": "3.8.10"
  }
 },
 "nbformat": 4,
 "nbformat_minor": 2
}
